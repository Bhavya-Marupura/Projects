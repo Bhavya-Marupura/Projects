{
 "cells": [
  {
   "cell_type": "code",
   "execution_count": 1,
   "id": "ac38c145",
   "metadata": {},
   "outputs": [],
   "source": [
    "#Importing the Libraries\n",
    "import numpy as np\n",
    "import pandas as pd\n",
    "import matplotlib.pyplot as plt\n",
    "from sklearn.preprocessing import StandardScaler\n",
    "from sklearn.model_selection import train_test_split\n",
    "from sklearn import svm\n",
    "from sklearn.metrics import accuracy_score\n",
    "from sklearn.inspection import DecisionBoundaryDisplay\n"
   ]
  },
  {
   "cell_type": "code",
   "execution_count": 2,
   "id": "754f9ac2",
   "metadata": {},
   "outputs": [
    {
     "name": "stdout",
     "output_type": "stream",
     "text": [
      "(768, 9)\n"
     ]
    },
    {
     "data": {
      "text/html": [
       "<div>\n",
       "<style scoped>\n",
       "    .dataframe tbody tr th:only-of-type {\n",
       "        vertical-align: middle;\n",
       "    }\n",
       "\n",
       "    .dataframe tbody tr th {\n",
       "        vertical-align: top;\n",
       "    }\n",
       "\n",
       "    .dataframe thead th {\n",
       "        text-align: right;\n",
       "    }\n",
       "</style>\n",
       "<table border=\"1\" class=\"dataframe\">\n",
       "  <thead>\n",
       "    <tr style=\"text-align: right;\">\n",
       "      <th></th>\n",
       "      <th>Pregnancies</th>\n",
       "      <th>Glucose</th>\n",
       "      <th>BloodPressure</th>\n",
       "      <th>SkinThickness</th>\n",
       "      <th>Insulin</th>\n",
       "      <th>BMI</th>\n",
       "      <th>DiabetesPedigreeFunction</th>\n",
       "      <th>Age</th>\n",
       "      <th>Outcome</th>\n",
       "    </tr>\n",
       "  </thead>\n",
       "  <tbody>\n",
       "    <tr>\n",
       "      <th>0</th>\n",
       "      <td>6</td>\n",
       "      <td>148</td>\n",
       "      <td>72</td>\n",
       "      <td>35</td>\n",
       "      <td>0</td>\n",
       "      <td>33.6</td>\n",
       "      <td>0.627</td>\n",
       "      <td>50</td>\n",
       "      <td>1</td>\n",
       "    </tr>\n",
       "    <tr>\n",
       "      <th>1</th>\n",
       "      <td>1</td>\n",
       "      <td>85</td>\n",
       "      <td>66</td>\n",
       "      <td>29</td>\n",
       "      <td>0</td>\n",
       "      <td>26.6</td>\n",
       "      <td>0.351</td>\n",
       "      <td>31</td>\n",
       "      <td>0</td>\n",
       "    </tr>\n",
       "    <tr>\n",
       "      <th>2</th>\n",
       "      <td>8</td>\n",
       "      <td>183</td>\n",
       "      <td>64</td>\n",
       "      <td>0</td>\n",
       "      <td>0</td>\n",
       "      <td>23.3</td>\n",
       "      <td>0.672</td>\n",
       "      <td>32</td>\n",
       "      <td>1</td>\n",
       "    </tr>\n",
       "    <tr>\n",
       "      <th>3</th>\n",
       "      <td>1</td>\n",
       "      <td>89</td>\n",
       "      <td>66</td>\n",
       "      <td>23</td>\n",
       "      <td>94</td>\n",
       "      <td>28.1</td>\n",
       "      <td>0.167</td>\n",
       "      <td>21</td>\n",
       "      <td>0</td>\n",
       "    </tr>\n",
       "    <tr>\n",
       "      <th>4</th>\n",
       "      <td>0</td>\n",
       "      <td>137</td>\n",
       "      <td>40</td>\n",
       "      <td>35</td>\n",
       "      <td>168</td>\n",
       "      <td>43.1</td>\n",
       "      <td>2.288</td>\n",
       "      <td>33</td>\n",
       "      <td>1</td>\n",
       "    </tr>\n",
       "  </tbody>\n",
       "</table>\n",
       "</div>"
      ],
      "text/plain": [
       "   Pregnancies  Glucose  BloodPressure  SkinThickness  Insulin   BMI  \\\n",
       "0            6      148             72             35        0  33.6   \n",
       "1            1       85             66             29        0  26.6   \n",
       "2            8      183             64              0        0  23.3   \n",
       "3            1       89             66             23       94  28.1   \n",
       "4            0      137             40             35      168  43.1   \n",
       "\n",
       "   DiabetesPedigreeFunction  Age  Outcome  \n",
       "0                     0.627   50        1  \n",
       "1                     0.351   31        0  \n",
       "2                     0.672   32        1  \n",
       "3                     0.167   21        0  \n",
       "4                     2.288   33        1  "
      ]
     },
     "execution_count": 2,
     "metadata": {},
     "output_type": "execute_result"
    }
   ],
   "source": [
    "#Dataset Collection and Analysis - Loading dataset\n",
    "#Dataset used: PIMA Diabetes Dataset\n",
    "data=pd.read_csv('DiabetesPred.csv')\n",
    "print(data.shape)\n",
    "data.head()\n"
   ]
  },
  {
   "cell_type": "code",
   "execution_count": 3,
   "id": "5b9252f8",
   "metadata": {},
   "outputs": [
    {
     "data": {
      "text/html": [
       "<div>\n",
       "<style scoped>\n",
       "    .dataframe tbody tr th:only-of-type {\n",
       "        vertical-align: middle;\n",
       "    }\n",
       "\n",
       "    .dataframe tbody tr th {\n",
       "        vertical-align: top;\n",
       "    }\n",
       "\n",
       "    .dataframe thead th {\n",
       "        text-align: right;\n",
       "    }\n",
       "</style>\n",
       "<table border=\"1\" class=\"dataframe\">\n",
       "  <thead>\n",
       "    <tr style=\"text-align: right;\">\n",
       "      <th></th>\n",
       "      <th>Pregnancies</th>\n",
       "      <th>Glucose</th>\n",
       "      <th>BloodPressure</th>\n",
       "      <th>SkinThickness</th>\n",
       "      <th>Insulin</th>\n",
       "      <th>BMI</th>\n",
       "      <th>DiabetesPedigreeFunction</th>\n",
       "      <th>Age</th>\n",
       "      <th>Outcome</th>\n",
       "    </tr>\n",
       "  </thead>\n",
       "  <tbody>\n",
       "    <tr>\n",
       "      <th>count</th>\n",
       "      <td>768.000000</td>\n",
       "      <td>768.000000</td>\n",
       "      <td>768.000000</td>\n",
       "      <td>768.000000</td>\n",
       "      <td>768.000000</td>\n",
       "      <td>768.000000</td>\n",
       "      <td>768.000000</td>\n",
       "      <td>768.000000</td>\n",
       "      <td>768.000000</td>\n",
       "    </tr>\n",
       "    <tr>\n",
       "      <th>mean</th>\n",
       "      <td>3.845052</td>\n",
       "      <td>120.894531</td>\n",
       "      <td>69.105469</td>\n",
       "      <td>20.536458</td>\n",
       "      <td>79.799479</td>\n",
       "      <td>31.992578</td>\n",
       "      <td>0.471876</td>\n",
       "      <td>33.240885</td>\n",
       "      <td>0.348958</td>\n",
       "    </tr>\n",
       "    <tr>\n",
       "      <th>std</th>\n",
       "      <td>3.369578</td>\n",
       "      <td>31.972618</td>\n",
       "      <td>19.355807</td>\n",
       "      <td>15.952218</td>\n",
       "      <td>115.244002</td>\n",
       "      <td>7.884160</td>\n",
       "      <td>0.331329</td>\n",
       "      <td>11.760232</td>\n",
       "      <td>0.476951</td>\n",
       "    </tr>\n",
       "    <tr>\n",
       "      <th>min</th>\n",
       "      <td>0.000000</td>\n",
       "      <td>0.000000</td>\n",
       "      <td>0.000000</td>\n",
       "      <td>0.000000</td>\n",
       "      <td>0.000000</td>\n",
       "      <td>0.000000</td>\n",
       "      <td>0.078000</td>\n",
       "      <td>21.000000</td>\n",
       "      <td>0.000000</td>\n",
       "    </tr>\n",
       "    <tr>\n",
       "      <th>25%</th>\n",
       "      <td>1.000000</td>\n",
       "      <td>99.000000</td>\n",
       "      <td>62.000000</td>\n",
       "      <td>0.000000</td>\n",
       "      <td>0.000000</td>\n",
       "      <td>27.300000</td>\n",
       "      <td>0.243750</td>\n",
       "      <td>24.000000</td>\n",
       "      <td>0.000000</td>\n",
       "    </tr>\n",
       "    <tr>\n",
       "      <th>50%</th>\n",
       "      <td>3.000000</td>\n",
       "      <td>117.000000</td>\n",
       "      <td>72.000000</td>\n",
       "      <td>23.000000</td>\n",
       "      <td>30.500000</td>\n",
       "      <td>32.000000</td>\n",
       "      <td>0.372500</td>\n",
       "      <td>29.000000</td>\n",
       "      <td>0.000000</td>\n",
       "    </tr>\n",
       "    <tr>\n",
       "      <th>75%</th>\n",
       "      <td>6.000000</td>\n",
       "      <td>140.250000</td>\n",
       "      <td>80.000000</td>\n",
       "      <td>32.000000</td>\n",
       "      <td>127.250000</td>\n",
       "      <td>36.600000</td>\n",
       "      <td>0.626250</td>\n",
       "      <td>41.000000</td>\n",
       "      <td>1.000000</td>\n",
       "    </tr>\n",
       "    <tr>\n",
       "      <th>max</th>\n",
       "      <td>17.000000</td>\n",
       "      <td>199.000000</td>\n",
       "      <td>122.000000</td>\n",
       "      <td>99.000000</td>\n",
       "      <td>846.000000</td>\n",
       "      <td>67.100000</td>\n",
       "      <td>2.420000</td>\n",
       "      <td>81.000000</td>\n",
       "      <td>1.000000</td>\n",
       "    </tr>\n",
       "  </tbody>\n",
       "</table>\n",
       "</div>"
      ],
      "text/plain": [
       "       Pregnancies     Glucose  BloodPressure  SkinThickness     Insulin  \\\n",
       "count   768.000000  768.000000     768.000000     768.000000  768.000000   \n",
       "mean      3.845052  120.894531      69.105469      20.536458   79.799479   \n",
       "std       3.369578   31.972618      19.355807      15.952218  115.244002   \n",
       "min       0.000000    0.000000       0.000000       0.000000    0.000000   \n",
       "25%       1.000000   99.000000      62.000000       0.000000    0.000000   \n",
       "50%       3.000000  117.000000      72.000000      23.000000   30.500000   \n",
       "75%       6.000000  140.250000      80.000000      32.000000  127.250000   \n",
       "max      17.000000  199.000000     122.000000      99.000000  846.000000   \n",
       "\n",
       "              BMI  DiabetesPedigreeFunction         Age     Outcome  \n",
       "count  768.000000                768.000000  768.000000  768.000000  \n",
       "mean    31.992578                  0.471876   33.240885    0.348958  \n",
       "std      7.884160                  0.331329   11.760232    0.476951  \n",
       "min      0.000000                  0.078000   21.000000    0.000000  \n",
       "25%     27.300000                  0.243750   24.000000    0.000000  \n",
       "50%     32.000000                  0.372500   29.000000    0.000000  \n",
       "75%     36.600000                  0.626250   41.000000    1.000000  \n",
       "max     67.100000                  2.420000   81.000000    1.000000  "
      ]
     },
     "execution_count": 3,
     "metadata": {},
     "output_type": "execute_result"
    }
   ],
   "source": [
    "#Getting statistical measures of the data\n",
    "data.describe()\n",
    "#25% tells us that there are 25% of the samples below 99 for glucose etc."
   ]
  },
  {
   "cell_type": "code",
   "execution_count": 4,
   "id": "2ca84b1e",
   "metadata": {},
   "outputs": [
    {
     "name": "stdout",
     "output_type": "stream",
     "text": [
      "0-->Non-Diabetic\n",
      "1-->Diabetic\n"
     ]
    },
    {
     "data": {
      "text/plain": [
       "Outcome\n",
       "0    500\n",
       "1    268\n",
       "Name: count, dtype: int64"
      ]
     },
     "execution_count": 4,
     "metadata": {},
     "output_type": "execute_result"
    }
   ],
   "source": [
    "print(\"0-->Non-Diabetic\")\n",
    "print(\"1-->Diabetic\")\n",
    "data['Outcome'].value_counts()"
   ]
  },
  {
   "cell_type": "code",
   "execution_count": 5,
   "id": "830b3574",
   "metadata": {},
   "outputs": [
    {
     "data": {
      "text/html": [
       "<div>\n",
       "<style scoped>\n",
       "    .dataframe tbody tr th:only-of-type {\n",
       "        vertical-align: middle;\n",
       "    }\n",
       "\n",
       "    .dataframe tbody tr th {\n",
       "        vertical-align: top;\n",
       "    }\n",
       "\n",
       "    .dataframe thead th {\n",
       "        text-align: right;\n",
       "    }\n",
       "</style>\n",
       "<table border=\"1\" class=\"dataframe\">\n",
       "  <thead>\n",
       "    <tr style=\"text-align: right;\">\n",
       "      <th></th>\n",
       "      <th>Pregnancies</th>\n",
       "      <th>Glucose</th>\n",
       "      <th>BloodPressure</th>\n",
       "      <th>SkinThickness</th>\n",
       "      <th>Insulin</th>\n",
       "      <th>BMI</th>\n",
       "      <th>DiabetesPedigreeFunction</th>\n",
       "      <th>Age</th>\n",
       "    </tr>\n",
       "    <tr>\n",
       "      <th>Outcome</th>\n",
       "      <th></th>\n",
       "      <th></th>\n",
       "      <th></th>\n",
       "      <th></th>\n",
       "      <th></th>\n",
       "      <th></th>\n",
       "      <th></th>\n",
       "      <th></th>\n",
       "    </tr>\n",
       "  </thead>\n",
       "  <tbody>\n",
       "    <tr>\n",
       "      <th>0</th>\n",
       "      <td>3.298000</td>\n",
       "      <td>109.980000</td>\n",
       "      <td>68.184000</td>\n",
       "      <td>19.664000</td>\n",
       "      <td>68.792000</td>\n",
       "      <td>30.304200</td>\n",
       "      <td>0.429734</td>\n",
       "      <td>31.190000</td>\n",
       "    </tr>\n",
       "    <tr>\n",
       "      <th>1</th>\n",
       "      <td>4.865672</td>\n",
       "      <td>141.257463</td>\n",
       "      <td>70.824627</td>\n",
       "      <td>22.164179</td>\n",
       "      <td>100.335821</td>\n",
       "      <td>35.142537</td>\n",
       "      <td>0.550500</td>\n",
       "      <td>37.067164</td>\n",
       "    </tr>\n",
       "  </tbody>\n",
       "</table>\n",
       "</div>"
      ],
      "text/plain": [
       "         Pregnancies     Glucose  BloodPressure  SkinThickness     Insulin  \\\n",
       "Outcome                                                                      \n",
       "0           3.298000  109.980000      68.184000      19.664000   68.792000   \n",
       "1           4.865672  141.257463      70.824627      22.164179  100.335821   \n",
       "\n",
       "               BMI  DiabetesPedigreeFunction        Age  \n",
       "Outcome                                                  \n",
       "0        30.304200                  0.429734  31.190000  \n",
       "1        35.142537                  0.550500  37.067164  "
      ]
     },
     "execution_count": 5,
     "metadata": {},
     "output_type": "execute_result"
    }
   ],
   "source": [
    "data.groupby('Outcome').mean()"
   ]
  },
  {
   "cell_type": "code",
   "execution_count": 6,
   "id": "d46d924d",
   "metadata": {},
   "outputs": [
    {
     "name": "stdout",
     "output_type": "stream",
     "text": [
      "(768, 8)\n",
      "(768,)\n",
      "     Pregnancies  Glucose  BloodPressure  SkinThickness  Insulin   BMI  \\\n",
      "0              6      148             72             35        0  33.6   \n",
      "1              1       85             66             29        0  26.6   \n",
      "2              8      183             64              0        0  23.3   \n",
      "3              1       89             66             23       94  28.1   \n",
      "4              0      137             40             35      168  43.1   \n",
      "..           ...      ...            ...            ...      ...   ...   \n",
      "763           10      101             76             48      180  32.9   \n",
      "764            2      122             70             27        0  36.8   \n",
      "765            5      121             72             23      112  26.2   \n",
      "766            1      126             60              0        0  30.1   \n",
      "767            1       93             70             31        0  30.4   \n",
      "\n",
      "     DiabetesPedigreeFunction  Age  \n",
      "0                       0.627   50  \n",
      "1                       0.351   31  \n",
      "2                       0.672   32  \n",
      "3                       0.167   21  \n",
      "4                       2.288   33  \n",
      "..                        ...  ...  \n",
      "763                     0.171   63  \n",
      "764                     0.340   27  \n",
      "765                     0.245   30  \n",
      "766                     0.349   47  \n",
      "767                     0.315   23  \n",
      "\n",
      "[768 rows x 8 columns]\n",
      "0      1\n",
      "1      0\n",
      "2      1\n",
      "3      0\n",
      "4      1\n",
      "      ..\n",
      "763    0\n",
      "764    0\n",
      "765    0\n",
      "766    1\n",
      "767    0\n",
      "Name: Outcome, Length: 768, dtype: int64\n"
     ]
    }
   ],
   "source": [
    "#Seperating data and labels\n",
    "X=data.drop(columns='Outcome',axis=1)\n",
    "Y=data['Outcome']\n",
    "print(X.shape)\n",
    "print(Y.shape)\n",
    "print(X)\n",
    "print(Y)"
   ]
  },
  {
   "cell_type": "code",
   "execution_count": 7,
   "id": "4df01641",
   "metadata": {},
   "outputs": [
    {
     "name": "stdout",
     "output_type": "stream",
     "text": [
      "[[ 0.63994726  0.84832379  0.14964075 ...  0.20401277  0.46849198\n",
      "   1.4259954 ]\n",
      " [-0.84488505 -1.12339636 -0.16054575 ... -0.68442195 -0.36506078\n",
      "  -0.19067191]\n",
      " [ 1.23388019  1.94372388 -0.26394125 ... -1.10325546  0.60439732\n",
      "  -0.10558415]\n",
      " ...\n",
      " [ 0.3429808   0.00330087  0.14964075 ... -0.73518964 -0.68519336\n",
      "  -0.27575966]\n",
      " [-0.84488505  0.1597866  -0.47073225 ... -0.24020459 -0.37110101\n",
      "   1.17073215]\n",
      " [-0.84488505 -0.8730192   0.04624525 ... -0.20212881 -0.47378505\n",
      "  -0.87137393]]\n",
      "0      1\n",
      "1      0\n",
      "2      1\n",
      "3      0\n",
      "4      1\n",
      "      ..\n",
      "763    0\n",
      "764    0\n",
      "765    0\n",
      "766    1\n",
      "767    0\n",
      "Name: Outcome, Length: 768, dtype: int64\n"
     ]
    }
   ],
   "source": [
    "#Data Standardization\n",
    "scaler=StandardScaler()\n",
    "scaler.fit(X)\n",
    "standardized_data=scaler.transform(X)\n",
    "X=standardized_data\n",
    "print(X)\n",
    "print(Y)"
   ]
  },
  {
   "cell_type": "code",
   "execution_count": 8,
   "id": "950fb3d8",
   "metadata": {},
   "outputs": [
    {
     "name": "stdout",
     "output_type": "stream",
     "text": [
      "[[ 0.63994726  0.84832379  0.14964075 ...  0.20401277  0.46849198\n",
      "   1.4259954 ]\n",
      " [-0.84488505 -1.12339636 -0.16054575 ... -0.68442195 -0.36506078\n",
      "  -0.19067191]\n",
      " [ 1.23388019  1.94372388 -0.26394125 ... -1.10325546  0.60439732\n",
      "  -0.10558415]\n",
      " ...\n",
      " [ 0.3429808   0.00330087  0.14964075 ... -0.73518964 -0.68519336\n",
      "  -0.27575966]\n",
      " [-0.84488505  0.1597866  -0.47073225 ... -0.24020459 -0.37110101\n",
      "   1.17073215]\n",
      " [-0.84488505 -0.8730192   0.04624525 ... -0.20212881 -0.47378505\n",
      "  -0.87137393]]\n",
      "0      1\n",
      "1      0\n",
      "2      1\n",
      "3      0\n",
      "4      1\n",
      "      ..\n",
      "763    0\n",
      "764    0\n",
      "765    0\n",
      "766    1\n",
      "767    0\n",
      "Name: Outcome, Length: 768, dtype: int64\n"
     ]
    }
   ],
   "source": [
    "print(X)\n",
    "print(Y)"
   ]
  },
  {
   "cell_type": "code",
   "execution_count": 9,
   "id": "1456f2d2",
   "metadata": {},
   "outputs": [
    {
     "name": "stdout",
     "output_type": "stream",
     "text": [
      "(768, 8) (614, 8) (154, 8)\n"
     ]
    }
   ],
   "source": [
    "X_train, X_test, Y_train, Y_test= train_test_split(X,Y,test_size=0.2,stratify=Y,random_state=10)\n",
    "print(X.shape, X_train.shape, X_test.shape)"
   ]
  },
  {
   "cell_type": "markdown",
   "id": "7d8e494c",
   "metadata": {},
   "source": [
    "# SVM - LINEAR KERNEL"
   ]
  },
  {
   "cell_type": "code",
   "execution_count": 10,
   "id": "28e892e8",
   "metadata": {},
   "outputs": [
    {
     "name": "stdout",
     "output_type": "stream",
     "text": [
      "Accuracy Score of training data = 0.7654723127035831\n",
      "Accuracy Score of training data = 0.8246753246753247\n",
      "Input Data\n",
      "[[  4.    110.     92.      0.      0.     37.6     0.191  30.   ]]\n",
      "\n",
      "\n",
      "Standardized Input Data\n",
      "[[ 0.04601433 -0.34096773  1.18359575 -1.28821221 -0.69289057  0.71168975\n",
      "  -0.84827977 -0.27575966]]\n",
      "[0]\n",
      "Person is Non-Diabetic\n"
     ]
    },
    {
     "name": "stderr",
     "output_type": "stream",
     "text": [
      "C:\\Users\\Bhavya\\anaconda3\\Lib\\site-packages\\sklearn\\base.py:464: UserWarning: X does not have valid feature names, but StandardScaler was fitted with feature names\n",
      "  warnings.warn(\n"
     ]
    }
   ],
   "source": [
    "#Training the Support Vector Machine Model\n",
    "classifier = svm.SVC(kernel='linear',C=1.0)\n",
    "classifier.fit(X_train, Y_train)\n",
    "\n",
    "#Model Evaluation & Accuracy Score\n",
    "\n",
    "#Accuracy Score of training data\n",
    "X_train_pred = classifier.predict(X_train)\n",
    "accuracy= accuracy_score(X_train_pred, Y_train)\n",
    "print(f\"Accuracy Score of training data = {accuracy}\")\n",
    "\n",
    "#Accuracy Score of testing data\n",
    "X_test_pred = classifier.predict(X_test)\n",
    "accuracy= accuracy_score(X_test_pred, Y_test)\n",
    "print(f\"Accuracy Score of training data = {accuracy}\")\n",
    "\n",
    "#Predicting using User Input\n",
    "input_data=[4,110,92,0,0,37.6,0.191,30]\n",
    "input_data=np.asarray(input_data)\n",
    "#reshape the array as we are predicting one instance\n",
    "input_data=input_data.reshape(1,-1)\n",
    "print('Input Data')\n",
    "print(input_data)\n",
    "#we need to standardize the input data\n",
    "standardized_input_data=scaler.transform(input_data)\n",
    "print('\\n')\n",
    "print('Standardized Input Data')\n",
    "print(standardized_input_data)\n",
    "prediction=classifier.predict(standardized_input_data)\n",
    "print(prediction)\n",
    "if prediction==0:\n",
    "    print('Person is Non-Diabetic')\n",
    "else:\n",
    "    print('Person is Diabetic')"
   ]
  },
  {
   "cell_type": "markdown",
   "id": "83efbe25",
   "metadata": {},
   "source": [
    "# SVM - RADIAL KERNEL"
   ]
  },
  {
   "cell_type": "code",
   "execution_count": 11,
   "id": "38b8f62a",
   "metadata": {},
   "outputs": [
    {
     "name": "stdout",
     "output_type": "stream",
     "text": [
      "Accuracy Score of training data = 0.8469055374592834\n",
      "Accuracy Score of training data = 0.7922077922077922\n",
      "Input Data\n",
      "[[  4.    110.     92.      0.      0.     37.6     0.191  30.   ]]\n",
      "\n",
      "\n",
      "Standardized Input Data\n",
      "[[ 0.04601433 -0.34096773  1.18359575 -1.28821221 -0.69289057  0.71168975\n",
      "  -0.84827977 -0.27575966]]\n",
      "[0]\n",
      "Person is Non-Diabetic\n"
     ]
    },
    {
     "name": "stderr",
     "output_type": "stream",
     "text": [
      "C:\\Users\\Bhavya\\anaconda3\\Lib\\site-packages\\sklearn\\base.py:464: UserWarning: X does not have valid feature names, but StandardScaler was fitted with feature names\n",
      "  warnings.warn(\n"
     ]
    }
   ],
   "source": [
    "#Training the Support Vector Machine Model\n",
    "classifier = svm.SVC(kernel='rbf',gamma=0.2,C=1.0)\n",
    "classifier.fit(X_train, Y_train)\n",
    "#Model Evaluation & Accuracy Score\n",
    "\n",
    "#Accuracy Score of training data\n",
    "X_train_pred = classifier.predict(X_train)\n",
    "accuracy= accuracy_score(X_train_pred, Y_train)\n",
    "print(f\"Accuracy Score of training data = {accuracy}\")\n",
    "#Accuracy Score of testing data\n",
    "X_test_pred = classifier.predict(X_test)\n",
    "accuracy= accuracy_score(X_test_pred, Y_test)\n",
    "print(f\"Accuracy Score of training data = {accuracy}\")\n",
    "#Predicting using User Input\n",
    "input_data=[4,110,92,0,0,37.6,0.191,30]\n",
    "input_data=np.asarray(input_data)\n",
    "#reshape the array as we are predicting one instance\n",
    "input_data=input_data.reshape(1,-1)\n",
    "print('Input Data')\n",
    "print(input_data)\n",
    "#we need to standardize the input data\n",
    "standardized_input_data=scaler.transform(input_data)\n",
    "print('\\n')\n",
    "print('Standardized Input Data')\n",
    "print(standardized_input_data)\n",
    "prediction=classifier.predict(standardized_input_data)\n",
    "print(prediction)\n",
    "if prediction==0:\n",
    "    print('Person is Non-Diabetic')\n",
    "else:\n",
    "    print('Person is Diabetic')"
   ]
  },
  {
   "cell_type": "markdown",
   "id": "8ca45d2d",
   "metadata": {},
   "source": [
    "# SVM - POLYNOMIAL KERNEL"
   ]
  },
  {
   "cell_type": "code",
   "execution_count": 12,
   "id": "fca5d765",
   "metadata": {},
   "outputs": [
    {
     "name": "stdout",
     "output_type": "stream",
     "text": [
      "Accuracy Score of training data = 0.7850162866449512\n",
      "Accuracy Score of training data = 0.7792207792207793\n",
      "Input Data\n",
      "[[  4.    110.     92.      0.      0.     37.6     0.191  30.   ]]\n",
      "\n",
      "\n",
      "Standardized Input Data\n",
      "[[ 0.04601433 -0.34096773  1.18359575 -1.28821221 -0.69289057  0.71168975\n",
      "  -0.84827977 -0.27575966]]\n",
      "[0]\n",
      "Person is Non-Diabetic\n"
     ]
    },
    {
     "name": "stderr",
     "output_type": "stream",
     "text": [
      "C:\\Users\\Bhavya\\anaconda3\\Lib\\site-packages\\sklearn\\base.py:464: UserWarning: X does not have valid feature names, but StandardScaler was fitted with feature names\n",
      "  warnings.warn(\n"
     ]
    }
   ],
   "source": [
    "#Training the Support Vector Machine Model\n",
    "classifier = svm.SVC(kernel='poly',degree=3,C=1.0)\n",
    "classifier.fit(X_train, Y_train)\n",
    "#Model Evaluation & Accuracy Score\n",
    "\n",
    "#Accuracy Score of training data\n",
    "X_train_pred = classifier.predict(X_train)\n",
    "accuracy= accuracy_score(X_train_pred, Y_train)\n",
    "print(f\"Accuracy Score of training data = {accuracy}\")\n",
    "#Accuracy Score of testing data\n",
    "X_test_pred = classifier.predict(X_test)\n",
    "accuracy= accuracy_score(X_test_pred, Y_test)\n",
    "print(f\"Accuracy Score of training data = {accuracy}\")\n",
    "#Predicting using User Input\n",
    "input_data=[4,110,92,0,0,37.6,0.191,30]\n",
    "input_data=np.asarray(input_data)\n",
    "#reshape the array as we are predicting one instance\n",
    "input_data=input_data.reshape(1,-1)\n",
    "print('Input Data')\n",
    "print(input_data)\n",
    "#we need to standardize the input data\n",
    "standardized_input_data=scaler.transform(input_data)\n",
    "print('\\n')\n",
    "print('Standardized Input Data')\n",
    "print(standardized_input_data)\n",
    "prediction=classifier.predict(standardized_input_data)\n",
    "print(prediction)\n",
    "if prediction==0:\n",
    "    print('Person is Non-Diabetic')\n",
    "else:\n",
    "    print('Person is Diabetic')"
   ]
  },
  {
   "cell_type": "markdown",
   "id": "9f6ad126",
   "metadata": {},
   "source": [
    "# SVM - SIGMOID KERNEL"
   ]
  },
  {
   "cell_type": "code",
   "execution_count": 13,
   "id": "d9abc9f8",
   "metadata": {},
   "outputs": [
    {
     "name": "stdout",
     "output_type": "stream",
     "text": [
      "Accuracy Score of training data = 0.6840390879478827\n",
      "Accuracy Score of training data = 0.7402597402597403\n",
      "Input Data\n",
      "[[  4.    110.     92.      0.      0.     37.6     0.191  30.   ]]\n",
      "\n",
      "\n",
      "Standardized Input Data\n",
      "[[ 0.04601433 -0.34096773  1.18359575 -1.28821221 -0.69289057  0.71168975\n",
      "  -0.84827977 -0.27575966]]\n",
      "[0]\n",
      "Person is Non-Diabetic\n"
     ]
    },
    {
     "name": "stderr",
     "output_type": "stream",
     "text": [
      "C:\\Users\\Bhavya\\anaconda3\\Lib\\site-packages\\sklearn\\base.py:464: UserWarning: X does not have valid feature names, but StandardScaler was fitted with feature names\n",
      "  warnings.warn(\n"
     ]
    }
   ],
   "source": [
    "#Training the Support Vector Machine Model\n",
    "classifier = svm.SVC(kernel='sigmoid',C=1.0)\n",
    "classifier.fit(X_train, Y_train)\n",
    "#Model Evaluation & Accuracy Score\n",
    "\n",
    "#Accuracy Score of training data\n",
    "X_train_pred = classifier.predict(X_train)\n",
    "accuracy= accuracy_score(X_train_pred, Y_train)\n",
    "print(f\"Accuracy Score of training data = {accuracy}\")\n",
    "#Accuracy Score of testing data\n",
    "X_test_pred = classifier.predict(X_test)\n",
    "accuracy= accuracy_score(X_test_pred, Y_test)\n",
    "print(f\"Accuracy Score of training data = {accuracy}\")\n",
    "#Predicting using User Input\n",
    "input_data=[4,110,92,0,0,37.6,0.191,30]\n",
    "input_data=np.asarray(input_data)\n",
    "#reshape the array as we are predicting one instance\n",
    "input_data=input_data.reshape(1,-1)\n",
    "print('Input Data')\n",
    "print(input_data)\n",
    "#we need to standardize the input data\n",
    "standardized_input_data=scaler.transform(input_data)\n",
    "print('\\n')\n",
    "print('Standardized Input Data')\n",
    "print(standardized_input_data)\n",
    "prediction=classifier.predict(standardized_input_data)\n",
    "print(prediction)\n",
    "if prediction==0:\n",
    "    print('Person is Non-Diabetic')\n",
    "else:\n",
    "    print('Person is Diabetic')"
   ]
  },
  {
   "cell_type": "code",
   "execution_count": 14,
   "id": "a0d9c0c2",
   "metadata": {},
   "outputs": [],
   "source": [
    "import pickle\n",
    "filename='trained_model.sav'\n",
    "pickle.dump(classifier,open(filename,'wb'))"
   ]
  },
  {
   "cell_type": "code",
   "execution_count": 15,
   "id": "c4a717ba",
   "metadata": {},
   "outputs": [],
   "source": [
    "loaded_model = pickle.load(open('trained_model.sav','rb'))"
   ]
  },
  {
   "cell_type": "code",
   "execution_count": 16,
   "id": "df0a6d07",
   "metadata": {},
   "outputs": [
    {
     "name": "stdout",
     "output_type": "stream",
     "text": [
      "Input Data\n",
      "[[  4.    110.     92.      0.      0.     37.6     0.191  30.   ]]\n",
      "\n",
      "\n",
      "Standardized Input Data\n",
      "[[ 0.04601433 -0.34096773  1.18359575 -1.28821221 -0.69289057  0.71168975\n",
      "  -0.84827977 -0.27575966]]\n",
      "[0]\n",
      "Person is Non-Diabetic\n"
     ]
    },
    {
     "name": "stderr",
     "output_type": "stream",
     "text": [
      "C:\\Users\\Bhavya\\anaconda3\\Lib\\site-packages\\sklearn\\base.py:464: UserWarning: X does not have valid feature names, but StandardScaler was fitted with feature names\n",
      "  warnings.warn(\n"
     ]
    }
   ],
   "source": [
    "#Predicting using User Input\n",
    "input_data=[4,110,92,0,0,37.6,0.191,30]\n",
    "input_data=np.asarray(input_data)\n",
    "#reshape the array as we are predicting one instance\n",
    "input_data=input_data.reshape(1,-1)\n",
    "print('Input Data')\n",
    "print(input_data)\n",
    "#we need to standardize the input data\n",
    "standardized_input_data=scaler.transform(input_data)\n",
    "print('\\n')\n",
    "print('Standardized Input Data')\n",
    "print(standardized_input_data)\n",
    "prediction=loaded_model.predict(standardized_input_data)\n",
    "print(prediction)\n",
    "if prediction==0:\n",
    "    print('Person is Non-Diabetic')\n",
    "else:\n",
    "    print('Person is Diabetic')"
   ]
  },
  {
   "cell_type": "code",
   "execution_count": null,
   "id": "3be865ce",
   "metadata": {},
   "outputs": [],
   "source": []
  }
 ],
 "metadata": {
  "kernelspec": {
   "display_name": "Python 3 (ipykernel)",
   "language": "python",
   "name": "python3"
  },
  "language_info": {
   "codemirror_mode": {
    "name": "ipython",
    "version": 3
   },
   "file_extension": ".py",
   "mimetype": "text/x-python",
   "name": "python",
   "nbconvert_exporter": "python",
   "pygments_lexer": "ipython3",
   "version": "3.11.5"
  }
 },
 "nbformat": 4,
 "nbformat_minor": 5
}
